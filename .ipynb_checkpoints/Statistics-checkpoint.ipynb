{
 "cells": [
  {
   "cell_type": "markdown",
   "metadata": {},
   "source": [
    "## Uniform Distribution"
   ]
  },
  {
   "cell_type": "code",
   "execution_count": 1,
   "metadata": {},
   "outputs": [],
   "source": [
    "import numpy as np\n",
    "from numpy.random import randn\n",
    "import pandas as pd\n",
    "from scipy import stats\n",
    "import matplotlib as mpl\n",
    "import matplotlib.pyplot as plt\n",
    "import seaborn as sns\n",
    "from __future__ import division\n",
    "%matplotlib inline"
   ]
  },
  {
   "cell_type": "code",
   "execution_count": 3,
   "metadata": {},
   "outputs": [
    {
     "data": {
      "text/plain": [
       "Text(0.5,1,'Dice Probability')"
      ]
     },
     "execution_count": 3,
     "metadata": {},
     "output_type": "execute_result"
    },
    {
     "data": {
      "image/png": "[encoded data removed]",
      "text/plain": [
       "<matplotlib.figure.Figure at 0x10a2c3fd0>"
      ]
     },
     "metadata": {},
     "output_type": "display_data"
    }
   ],
   "source": [
    "roll_options = [1,2,3,4,5,6]\n",
    "total_prob =1\n",
    "\n",
    "prob_roll = total_prob/len(roll_options)\n",
    "\n",
    "uni_plot = sns.rugplot(roll_options, height=prob_roll, c='indianred')\n",
    "\n",
    "uni_plot.set_title('Dice Probability')"
   ]
  },
  {
   "cell_type": "code",
   "execution_count": 5,
   "metadata": {},
   "outputs": [
    {
     "name": "stdout",
     "output_type": "stream",
     "text": [
      "The mean is 3.5\n"
     ]
    }
   ],
   "source": [
    "from scipy.stats import randint\n",
    "\n",
    "low, high = 1,7\n",
    "\n",
    "mean,var = randint.stats(low, high)\n",
    "\n",
    "print('The mean is %2.1f' %mean)"
   ]
  },
  {
   "cell_type": "code",
   "execution_count": 6,
   "metadata": {},
   "outputs": [
    {
     "data": {
      "text/plain": [
       "<Container object of 6 artists>"
      ]
     },
     "execution_count": 6,
     "metadata": {},
     "output_type": "execute_result"
    },
    {
     "data": {
      "image/png": "[encoded data removed]",
      "text/plain": [
       "<matplotlib.figure.Figure at 0x10a3faa58>"
      ]
     },
     "metadata": {},
     "output_type": "display_data"
    }
   ],
   "source": [
    "plt.bar(roll_options, randint.pmf(roll_options, low, high))"
   ]
  },
  {
   "cell_type": "markdown",
   "metadata": {},
   "source": [
    "## Continuous Distribution"
   ]
  },
  {
   "cell_type": "markdown",
   "metadata": {},
   "source": [
    "### Distribution of taxi ride times in NYC"
   ]
  },
  {
   "cell_type": "code",
   "execution_count": 8,
   "metadata": {},
   "outputs": [
    {
     "name": "stdout",
     "output_type": "stream",
     "text": [
      "The probablility density function results in 0.125\n"
     ]
    }
   ],
   "source": [
    "a = 19\n",
    "\n",
    "b =27\n",
    "\n",
    "fx = 1.0/(b-a)\n",
    "\n",
    "print('The probablility density function results in %1.3f' %fx)"
   ]
  },
  {
   "cell_type": "markdown",
   "metadata": {},
   "source": [
    "### Time at least 25 mins"
   ]
  },
  {
   "cell_type": "code",
   "execution_count": 10,
   "metadata": {},
   "outputs": [
    {
     "name": "stdout",
     "output_type": "stream",
     "text": [
      "The probability that the taxi ride will last at least 25 mins is 25.0% \n"
     ]
    }
   ],
   "source": [
    "fx_1 = 27.0/(b-a) # maximum \n",
    "\n",
    "fx_2 = 25/(b-a)  # space up to 25 mins\n",
    "\n",
    "ans = fx_1 - fx_2\n",
    "\n",
    "print('The probability that the taxi ride will last at least 25 mins is %2.1f%% ' %(100*ans))"
   ]
  },
  {
   "cell_type": "code",
   "execution_count": 11,
   "metadata": {},
   "outputs": [],
   "source": [
    "from scipy.stats import uniform"
   ]
  },
  {
   "cell_type": "code",
   "execution_count": 12,
   "metadata": {},
   "outputs": [
    {
     "data": {
      "text/plain": [
       "[<matplotlib.lines.Line2D at 0x10adf1400>]"
      ]
     },
     "execution_count": 12,
     "metadata": {},
     "output_type": "execute_result"
    },
    {
     "data": {
      "image/png": "[encoded data removed]",
      "text/plain": [
       "<matplotlib.figure.Figure at 0x10ae07f60>"
      ]
     },
     "metadata": {},
     "output_type": "display_data"
    }
   ],
   "source": [
    "A=0\n",
    "B=5\n",
    "\n",
    "x = np.linspace(A,B,100)\n",
    "\n",
    "rv = uniform(loc=A,scale=B)\n",
    "\n",
    "plt.plot(x,rv.pdf(x)) # y = 1/(5-0)"
   ]
  },
  {
   "cell_type": "markdown",
   "metadata": {},
   "source": [
    "## Binomial Distribution"
   ]
  },
  {
   "cell_type": "code",
   "execution_count": 15,
   "metadata": {},
   "outputs": [
    {
     "name": "stdout",
     "output_type": "stream",
     "text": [
      "The probability of player A making 6 shots in an average game is 11.1%\n",
      "\n",
      "\n",
      "The probability of player B making 6 shots in an average game is 17.0%\n"
     ]
    }
   ],
   "source": [
    "p_A = .72\n",
    "\n",
    "n_A = 11\n",
    "\n",
    "k=6\n",
    "\n",
    "import scipy.special as sc\n",
    "\n",
    "comb_A = sc.comb(n_A,k)\n",
    "\n",
    "answer_A = comb_A*(p_A**k)*((1-p_A)**(n_A - k))\n",
    "\n",
    "answer_A = 100*answer_A\n",
    "\n",
    "p_B = .48\n",
    "\n",
    "n_B = 15\n",
    "\n",
    "comb_B = sc.comb(n_B,k)\n",
    "\n",
    "answer_B = comb_B*(p_B**k)*((1-p_B)**(n_B - k))\n",
    "\n",
    "answer_B = 100*answer_B\n",
    "\n",
    "print('The probability of player A making 6 shots in an average game is %1.1f%%' %answer_A)\n",
    "print('\\n')\n",
    "print('The probability of player B making 6 shots in an average game is %1.1f%%' %answer_B)\n"
   ]
  },
  {
   "cell_type": "code",
   "execution_count": 17,
   "metadata": {},
   "outputs": [
    {
     "name": "stdout",
     "output_type": "stream",
     "text": [
      "The probability of player A making 9 shots in an average game is 22.4%\n",
      "\n",
      "\n",
      "The probability of player B making 9 shots in an average game is 13.4%\n"
     ]
    }
   ],
   "source": [
    "k=9\n",
    "\n",
    "comb_A = sc.comb(n_A,k)\n",
    "\n",
    "answer_A = comb_A*(p_A**k)*((1-p_A)**(n_A - k))\n",
    "\n",
    "answer_A = 100*answer_A\n",
    "\n",
    "comb_B = sc.comb(n_B,k)\n",
    "\n",
    "answer_B = comb_B*(p_B**k)*((1-p_B)**(n_B - k))\n",
    "\n",
    "answer_B = 100*answer_B\n",
    "\n",
    "print('The probability of player A making 9 shots in an average game is %1.1f%%' %answer_A)\n",
    "print('\\n')\n",
    "print('The probability of player B making 9 shots in an average game is %1.1f%%' %answer_B)"
   ]
  },
  {
   "cell_type": "markdown",
   "metadata": {},
   "source": [
    "### Standard Deviation"
   ]
  },
  {
   "cell_type": "code",
   "execution_count": 21,
   "metadata": {},
   "outputs": [
    {
     "name": "stdout",
     "output_type": "stream",
     "text": [
      "Player A will make an average of 8 +/- 1 shots per game.\n",
      "\n",
      "\n",
      "Player B will make an average of 7 +/- 2 shots per game.\n"
     ]
    }
   ],
   "source": [
    "mu_A = n_A*p_A\n",
    "mu_B = n_B*p_B\n",
    "\n",
    "sigma_A = (n_A*p_A*(1.-p_A))**0.5\n",
    "sigma_B = (n_B*p_B*(1.-p_B))**0.5\n",
    "\n",
    "print('Player A will make an average of %1.0f +/- %1.0f shots per game.' %(mu_A,sigma_A))\n",
    "print('\\n')\n",
    "print('Player B will make an average of %1.0f +/- %1.0f shots per game.' %(mu_B,sigma_B))"
   ]
  },
  {
   "cell_type": "code",
   "execution_count": 22,
   "metadata": {},
   "outputs": [
    {
     "name": "stdout",
     "output_type": "stream",
     "text": [
      "7.92\n",
      "1.48916083752\n"
     ]
    }
   ],
   "source": [
    "from scipy.stats import binom\n",
    "\n",
    "mean,var = binom.stats(n_A,p_A)\n",
    "\n",
    "print(mean)\n",
    "print(var**0.5)"
   ]
  },
  {
   "cell_type": "code",
   "execution_count": 24,
   "metadata": {},
   "outputs": [
    {
     "data": {
      "text/plain": [
       "array([ 0.00097656,  0.00976563,  0.04394531,  0.1171875 ,  0.20507813,\n",
       "        0.24609375,  0.20507813,  0.1171875 ,  0.04394531,  0.00976563,\n",
       "        0.00097656])"
      ]
     },
     "execution_count": 24,
     "metadata": {},
     "output_type": "execute_result"
    }
   ],
   "source": [
    "n=10\n",
    "p=0.5\n",
    "\n",
    "x = range(n+1)\n",
    "\n",
    "Y = binom.pmf(x,n,p)\n",
    "\n",
    "Y"
   ]
  },
  {
   "cell_type": "code",
   "execution_count": 25,
   "metadata": {},
   "outputs": [
    {
     "data": {
      "text/plain": [
       "Text(0,0.5,'Probability')"
      ]
     },
     "execution_count": 25,
     "metadata": {},
     "output_type": "execute_result"
    },
    {
     "data": {
      "image/png": "[encoded data removed]",
      "text/plain": [
       "<matplotlib.figure.Figure at 0x10ae245f8>"
      ]
     },
     "metadata": {},
     "output_type": "display_data"
    }
   ],
   "source": [
    "plt.plot(x,Y,'o')\n",
    "\n",
    "plt.title('Binomical Distribution PMF: 10 coin flips, Odd of Success for Heads is p =0.5', y = 1.08)\n",
    "\n",
    "plt.xlabel('Number of Heads')\n",
    "plt.ylabel('Probability')"
   ]
  },
  {
   "cell_type": "markdown",
   "metadata": {},
   "source": [
    "## Poisson Distribution"
   ]
  },
  {
   "cell_type": "markdown",
   "metadata": {},
   "source": [
    "Lunch rush at McDoof. Average number of customers is 10, so what is the probability that exactly 7 customers enter."
   ]
  },
  {
   "cell_type": "code",
   "execution_count": 27,
   "metadata": {},
   "outputs": [
    {
     "name": "stdout",
     "output_type": "stream",
     "text": [
      "There is a 9.01% chance that exactly 7 customers show up during lunch rush\n"
     ]
    }
   ],
   "source": [
    "lamb = 10\n",
    "\n",
    "k = 7\n",
    "\n",
    "from math import exp\n",
    "from math import factorial\n",
    "\n",
    "prob = (lamb**k)*exp(-lamb)/factorial(k)\n",
    "\n",
    "print('There is a %2.2f%% chance that exactly 7 customers show up during lunch rush' %(100*prob))"
   ]
  },
  {
   "cell_type": "code",
   "execution_count": 29,
   "metadata": {},
   "outputs": [
    {
     "name": "stdout",
     "output_type": "stream",
     "text": [
      "There is a 9.01% chance that exactly 7 customers show up during lunch rush.\n",
      "The mean is 10.00\n"
     ]
    }
   ],
   "source": [
    "from scipy.stats import poisson\n",
    "\n",
    "mu = 10\n",
    "\n",
    "mean,var = poisson.stats(mu)\n",
    "\n",
    "odds_seven = poisson.pmf(7,mu)\n",
    "\n",
    "print('There is a %2.2f%% chance that exactly 7 customers show up during lunch rush.' %(100*odds_seven))\n",
    "\n",
    "print('The mean is %2.2f' %mean)"
   ]
  },
  {
   "cell_type": "code",
   "execution_count": 30,
   "metadata": {},
   "outputs": [
    {
     "data": {
      "text/plain": [
       "<Container object of 30 artists>"
      ]
     },
     "execution_count": 30,
     "metadata": {},
     "output_type": "execute_result"
    },
    {
     "data": {
      "image/png": "[encoded data removed]",
      "text/plain": [
       "<matplotlib.figure.Figure at 0x10adf6128>"
      ]
     },
     "metadata": {},
     "output_type": "display_data"
    }
   ],
   "source": [
    "k = np.arange(30)\n",
    "\n",
    "lamb=10\n",
    "\n",
    "pmf_pois = poisson.pmf(k,lamb)\n",
    "\n",
    "plt.bar(k,pmf_pois)"
   ]
  },
  {
   "cell_type": "code",
   "execution_count": 32,
   "metadata": {},
   "outputs": [
    {
     "name": "stdout",
     "output_type": "stream",
     "text": [
      "The probability of less than 10 customers is 58.3%.\n",
      "The probability of more than 10 customers is 41.7%.\n"
     ]
    }
   ],
   "source": [
    "k, mu = 10,10\n",
    "\n",
    "prob_up_to_ten = poisson.cdf(k,mu)\n",
    "\n",
    "print('The probability of less than 10 customers is %2.1f%%.'%(100*prob_up_to_ten))\n",
    "\n",
    "print('The probability of more than 10 customers is %2.1f%%.'%(100*(1-prob_up_to_ten)))"
   ]
  },
  {
   "cell_type": "markdown",
   "metadata": {},
   "source": [
    "## Normal Distribution"
   ]
  },
  {
   "cell_type": "code",
   "execution_count": 33,
   "metadata": {},
   "outputs": [
    {
     "data": {
      "text/plain": [
       "[<matplotlib.lines.Line2D at 0x10ae35358>]"
      ]
     },
     "execution_count": 33,
     "metadata": {},
     "output_type": "execute_result"
    },
    {
     "data": {
      "image/png": "[encoded data removed]",
      "text/plain": [
       "<matplotlib.figure.Figure at 0x10ae098d0>"
      ]
     },
     "metadata": {},
     "output_type": "display_data"
    }
   ],
   "source": [
    "mean = 0 \n",
    "\n",
    "std = 1\n",
    "\n",
    "X = np.arange(-4,4,0.01)\n",
    "\n",
    "Y = stats.norm.pdf(X,mean,std)\n",
    "\n",
    "plt.plot(X,Y)"
   ]
  },
  {
   "cell_type": "code",
   "execution_count": 34,
   "metadata": {},
   "outputs": [],
   "source": [
    "mu, sigma = 0, 0.1\n",
    "\n",
    "norm_set = np.random.normal(mu,sigma,1000)"
   ]
  },
  {
   "cell_type": "code",
   "execution_count": 36,
   "metadata": {},
   "outputs": [
    {
     "data": {
      "text/plain": [
       "(array([  2.,   0.,   0.,   0.,   1.,   0.,   1.,   2.,   2.,   9.,  10.,\n",
       "          8.,  20.,  20.,  17.,  22.,  27.,  31.,  44.,  49.,  37.,  51.,\n",
       "         67.,  64.,  53.,  51.,  55.,  39.,  46.,  49.,  32.,  49.,  24.,\n",
       "         28.,  26.,  20.,  12.,   8.,   7.,   6.,   1.,   3.,   3.,   1.,\n",
       "          0.,   0.,   0.,   1.,   1.,   1.]),\n",
       " array([-0.33285433, -0.31912695, -0.30539957, -0.29167219, -0.27794481,\n",
       "        -0.26421742, -0.25049004, -0.23676266, -0.22303528, -0.2093079 ,\n",
       "        -0.19558052, -0.18185314, -0.16812576, -0.15439838, -0.140671  ,\n",
       "        -0.12694362, -0.11321624, -0.09948886, -0.08576148, -0.0720341 ,\n",
       "        -0.05830672, -0.04457934, -0.03085195, -0.01712457, -0.00339719,\n",
       "         0.01033019,  0.02405757,  0.03778495,  0.05151233,  0.06523971,\n",
       "         0.07896709,  0.09269447,  0.10642185,  0.12014923,  0.13387661,\n",
       "         0.14760399,  0.16133137,  0.17505875,  0.18878613,  0.20251351,\n",
       "         0.2162409 ,  0.22996828,  0.24369566,  0.25742304,  0.27115042,\n",
       "         0.2848778 ,  0.29860518,  0.31233256,  0.32605994,  0.33978732,\n",
       "         0.3535147 ]),\n",
       " <a list of 50 Patch objects>)"
      ]
     },
     "execution_count": 36,
     "metadata": {},
     "output_type": "execute_result"
    },
    {
     "data": {
      "image/png": "[encoded data removed]",
      "text/plain": [
       "<matplotlib.figure.Figure at 0x10ad3a630>"
      ]
     },
     "metadata": {},
     "output_type": "display_data"
    }
   ],
   "source": [
    "plt.hist(norm_set, bins=50)"
   ]
  },
  {
   "cell_type": "markdown",
   "metadata": {},
   "source": [
    "### T-Distribution: t(n) with n<30 otherwise use the normal distribution"
   ]
  },
  {
   "cell_type": "code",
   "execution_count": 2,
   "metadata": {},
   "outputs": [],
   "source": [
    "from scipy.stats import t"
   ]
  },
  {
   "cell_type": "code",
   "execution_count": 4,
   "metadata": {},
   "outputs": [
    {
     "data": {
      "text/plain": [
       "[<matplotlib.lines.Line2D at 0x109dd6748>]"
      ]
     },
     "execution_count": 4,
     "metadata": {},
     "output_type": "execute_result"
    },
    {
     "data": {
      "image/png": "[encoded data removed]",
      "text/plain": [
       "<matplotlib.figure.Figure at 0x109d57e48>"
      ]
     },
     "metadata": {},
     "output_type": "display_data"
    }
   ],
   "source": [
    "x = np.linspace(-5,5,100)\n",
    "\n",
    "rv = t(3)\n",
    "\n",
    "plt.plot(x,rv.pdf(x))"
   ]
  },
  {
   "cell_type": "code",
   "execution_count": 20,
   "metadata": {},
   "outputs": [
    {
     "data": {
      "image/png": "[encoded data removed]",
      "text/plain": [
       "<matplotlib.figure.Figure at 0x10af8d550>"
      ]
     },
     "metadata": {},
     "output_type": "display_data"
    }
   ],
   "source": [
    "mean = 0 \n",
    "\n",
    "std = 1\n",
    "\n",
    "rv = t(3)\n",
    "\n",
    "X = np.arange(-5,5,0.1)\n",
    "\n",
    "Y = stats.norm.pdf(X,mean,std)\n",
    "\n",
    "plt.plot(X,Y,'b-', X,rv.pdf(X), 'r-')\n",
    "\n",
    "plt.show()"
   ]
  },
  {
   "cell_type": "code",
   "execution_count": null,
   "metadata": {},
   "outputs": [],
   "source": []
  }
 ],
 "metadata": {
  "kernelspec": {
   "display_name": "Python 3",
   "language": "python",
   "name": "python3"
  },
  "language_info": {
   "codemirror_mode": {
    "name": "ipython",
    "version": 3
   },
   "file_extension": ".py",
   "mimetype": "text/x-python",
   "name": "python",
   "nbconvert_exporter": "python",
   "pygments_lexer": "ipython3",
   "version": "3.6.0"
  }
 },
 "nbformat": 4,
 "nbformat_minor": 2
}
